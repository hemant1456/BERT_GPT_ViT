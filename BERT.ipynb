{
 "cells": [
  {
   "cell_type": "code",
   "execution_count": 36,
   "metadata": {},
   "outputs": [],
   "source": [
    "import torch\n",
    "from torch.utils.data import DataLoader, Dataset\n",
    "import torch.nn.functional as F\n",
    "import torch.nn as nn\n",
    "import math\n",
    "import lightning as L\n",
    "from lightning import Trainer\n",
    "from torchinfo import summary\n",
    "import re\n",
    "import random "
   ]
  },
  {
   "cell_type": "code",
   "execution_count": 17,
   "metadata": {},
   "outputs": [],
   "source": [
    "\n",
    "with open(\"training.txt\", \"r\") as f:\n",
    "    data = f.read().splitlines()\n",
    "    data = [sentence.strip() for sentence in data]\n",
    "    data = [sentence for sentence in data if len(sentence)>0]\n",
    "    escape_character = re.escape(',?;.:/*!+-()[]{}\"\\'&')\n",
    "    data = [re.sub(f\"[{escape_character}]\",\" \\g<0> \",sentence) for sentence in data]"
   ]
  },
  {
   "cell_type": "code",
   "execution_count": 27,
   "metadata": {},
   "outputs": [],
   "source": [
    "from collections import Counter\n",
    "vocab_size = 40000\n",
    "words = [word for sentence in data for word in sentence.split(\" \")]\n",
    "count = Counter(words)\n",
    "vocab = [word[0] for word in count.most_common(vocab_size)]\n",
    "with open(\"vocab.txt\", \"w\") as f:\n",
    "    f.write(\"\\n\".join(vocab))"
   ]
  },
  {
   "cell_type": "code",
   "execution_count": 71,
   "metadata": {},
   "outputs": [],
   "source": [
    "from sentence_dataset import SentenceDataset"
   ]
  },
  {
   "cell_type": "code",
   "execution_count": 72,
   "metadata": {},
   "outputs": [],
   "source": [
    "train_size = int(0.8 * len(data))\n",
    "train_data = data[:train_size]\n",
    "test_data = data[train_size:]\n",
    "\n",
    "sequence_length = 50\n",
    "train_dataset = SentenceDataset(train_data, vocab, sequence_length)\n",
    "test_dataset = SentenceDataset(test_data, vocab, sequence_length)\n",
    "\n",
    "train_loader = DataLoader(train_dataset, batch_size=32, shuffle=False, pin_memory=True, num_workers=1)\n",
    "test_loader = DataLoader(test_dataset, batch_size=32, shuffle=False, pin_memory=True, num_workers=1 )"
   ]
  },
  {
   "cell_type": "code",
   "execution_count": null,
   "metadata": {},
   "outputs": [],
   "source": []
  }
 ],
 "metadata": {
  "kernelspec": {
   "display_name": "venv",
   "language": "python",
   "name": "python3"
  },
  "language_info": {
   "codemirror_mode": {
    "name": "ipython",
    "version": 3
   },
   "file_extension": ".py",
   "mimetype": "text/x-python",
   "name": "python",
   "nbconvert_exporter": "python",
   "pygments_lexer": "ipython3",
   "version": "3.11.7"
  }
 },
 "nbformat": 4,
 "nbformat_minor": 2
}
